{
 "cells": [
  {
   "cell_type": "code",
   "execution_count": 1,
   "metadata": {},
   "outputs": [
    {
     "name": "stdout",
     "output_type": "stream",
     "text": [
      "The word is a palindrome.\n"
     ]
    }
   ],
   "source": [
    "# This program checks if a given word is a palindrome\n",
    "\n",
    "def is_palindrome(word):\n",
    "    # Convert the word to lowercase\n",
    "    word = word.lower()\n",
    "    # Reverse the word\n",
    "    reversed_word = word[::-1]\n",
    "    # Check if the original word is equal to its reverse\n",
    "    if word == reversed_word:\n",
    "        return True\n",
    "    else:\n",
    "        return False\n",
    "\n",
    "# Ask the user to enter a word\n",
    "user_word = input(\"Enter a word: \")\n",
    "\n",
    "# Call the is_palindrome function and print the result\n",
    "if is_palindrome(user_word):\n",
    "    print(\"The word is a palindrome.\")\n",
    "else:\n",
    "    print(\"The word is not a palindrome.\")\n"
   ]
  },
  {
   "cell_type": "code",
   "execution_count": 2,
   "metadata": {},
   "outputs": [
    {
     "name": "stdout",
     "output_type": "stream",
     "text": [
      "1\n",
      "2\n",
      "Fizz\n",
      "4\n",
      "Buzz\n",
      "Fizz\n",
      "7\n",
      "8\n",
      "Fizz\n",
      "Buzz\n",
      "11\n",
      "Fizz\n",
      "13\n",
      "14\n",
      "FizzBuzz\n",
      "16\n",
      "17\n",
      "Fizz\n",
      "19\n",
      "Buzz\n",
      "Fizz\n",
      "22\n",
      "23\n",
      "Fizz\n",
      "Buzz\n",
      "26\n",
      "Fizz\n",
      "28\n",
      "29\n",
      "FizzBuzz\n",
      "31\n",
      "32\n",
      "Fizz\n",
      "34\n",
      "Buzz\n",
      "Fizz\n",
      "37\n",
      "38\n",
      "Fizz\n",
      "Buzz\n",
      "41\n",
      "Fizz\n",
      "43\n",
      "44\n",
      "FizzBuzz\n",
      "46\n",
      "47\n",
      "Fizz\n",
      "49\n",
      "Buzz\n",
      "Fizz\n",
      "52\n",
      "53\n",
      "Fizz\n",
      "Buzz\n",
      "56\n",
      "Fizz\n",
      "58\n",
      "59\n",
      "FizzBuzz\n",
      "61\n",
      "62\n",
      "Fizz\n",
      "64\n",
      "Buzz\n",
      "Fizz\n",
      "67\n",
      "68\n",
      "Fizz\n",
      "Buzz\n",
      "71\n",
      "Fizz\n",
      "73\n",
      "74\n",
      "FizzBuzz\n",
      "76\n",
      "77\n",
      "Fizz\n",
      "79\n",
      "Buzz\n",
      "Fizz\n",
      "82\n",
      "83\n",
      "Fizz\n",
      "Buzz\n",
      "86\n",
      "Fizz\n",
      "88\n",
      "89\n",
      "FizzBuzz\n",
      "91\n",
      "92\n",
      "Fizz\n",
      "94\n",
      "Buzz\n",
      "Fizz\n",
      "97\n",
      "98\n",
      "Fizz\n",
      "Buzz\n"
     ]
    }
   ],
   "source": [
    "# This program prints numbers from 1 to 100 with conditions for multiples of 3 and 5\n",
    "\n",
    "for num in range(1, 101):\n",
    "    # Check if the number is divisible by both 3 and 5\n",
    "    if num % 3 == 0 and num % 5 == 0:\n",
    "        print(\"FizzBuzz\")\n",
    "    # Check if the number is divisible by 3\n",
    "    elif num % 3 == 0:\n",
    "        print(\"Fizz\")\n",
    "    # Check if the number is divisible by 5\n",
    "    elif num % 5 == 0:\n",
    "        print(\"Buzz\")\n",
    "    else:\n",
    "        print(num)\n"
   ]
  },
  {
   "cell_type": "code",
   "execution_count": 3,
   "metadata": {},
   "outputs": [
    {
     "name": "stdout",
     "output_type": "stream",
     "text": [
      "The 10 th Fibonacci number is: 55\n"
     ]
    }
   ],
   "source": [
    "# This program finds the nth Fibonacci number\n",
    "\n",
    "def fibonacci(n):\n",
    "    # Initialize the first two Fibonacci numbers\n",
    "    fib_sequence = [0, 1]\n",
    "    \n",
    "    # Generate Fibonacci sequence up to nth term\n",
    "    for i in range(2, n + 1):\n",
    "        next_term = fib_sequence[-1] + fib_sequence[-2]\n",
    "        fib_sequence.append(next_term)\n",
    "    \n",
    "    # Return the nth Fibonacci number\n",
    "    return fib_sequence[n]\n",
    "\n",
    "# Ask the user to enter the value of n\n",
    "n = int(input(\"Enter the value of n: \"))\n",
    "\n",
    "# Call the fibonacci function and print the result\n",
    "nth_fibonacci = fibonacci(n)\n",
    "print(\"The\", n, \"th Fibonacci number is:\", nth_fibonacci)\n"
   ]
  },
  {
   "cell_type": "code",
   "execution_count": 4,
   "metadata": {},
   "outputs": [
    {
     "name": "stdout",
     "output_type": "stream",
     "text": [
      "7 is a prime number.\n"
     ]
    }
   ],
   "source": [
    "# This program checks if a given number is prime\n",
    "\n",
    "def is_prime(number):\n",
    "    # If the number is less than 2, it's not prime\n",
    "    if number < 2:\n",
    "        return False\n",
    "    # Check if the number is divisible by any number from 2 to its square root\n",
    "    for i in range(2, int(number ** 0.5) + 1):\n",
    "        if number % i == 0:\n",
    "            return False\n",
    "    return True\n",
    "\n",
    "# Ask the user to enter a number\n",
    "user_number = int(input(\"Enter a number: \"))\n",
    "\n",
    "# Call the is_prime function and print the result\n",
    "if is_prime(user_number):\n",
    "    print(user_number, \"is a prime number.\")\n",
    "else:\n",
    "    print(user_number, \"is not a prime number.\")\n",
    "\n"
   ]
  },
  {
   "cell_type": "code",
   "execution_count": 6,
   "metadata": {},
   "outputs": [
    {
     "name": "stdout",
     "output_type": "stream",
     "text": [
      "Welcome to the Guessing Game!\n",
      "The number is higher. Try again.\n",
      "The number is higher. Try again.\n",
      "The number is higher. Try again.\n",
      "The number is lower. Try again.\n",
      "The number is lower. Try again.\n",
      "The number is lower. Try again.\n",
      "The number is higher. Try again.\n",
      "The number is higher. Try again.\n",
      "The number is lower. Try again.\n",
      "The number is lower. Try again.\n",
      "Congratulations! You guessed the number correctly in 11 guesses.\n"
     ]
    }
   ],
   "source": [
    "# This program generates a random number and lets the user guess it\n",
    "\n",
    "import random\n",
    "\n",
    "# Generate a random number between 1 and 100\n",
    "random_number = random.randint(1, 100)\n",
    "\n",
    "# Set the initial number of guesses to 0\n",
    "num_guesses = 0\n",
    "\n",
    "print(\"Welcome to the Guessing Game!\")\n",
    "\n",
    "while True:\n",
    "    # Ask the user to guess the number\n",
    "    guess = int(input(\"Guess the number (between 1 and 100): \"))\n",
    "    \n",
    "    # Increment the number of guesses\n",
    "    num_guesses += 1\n",
    "    \n",
    "    # Check if the guess is correct\n",
    "    if guess == random_number:\n",
    "        print(\"Congratulations! You guessed the number correctly in\", num_guesses, \"guesses.\")\n",
    "        break\n",
    "    elif guess < random_number:\n",
    "        print(\"The number is higher. Try again.\")\n",
    "    else:\n",
    "        print(\"The number is lower. Try again.\")\n"
   ]
  },
  {
   "cell_type": "code",
   "execution_count": 7,
   "metadata": {},
   "outputs": [
    {
     "name": "stdout",
     "output_type": "stream",
     "text": [
      "List of squares of the first 10 integers: [1, 4, 9, 16, 25, 36, 49, 64, 81, 100]\n"
     ]
    }
   ],
   "source": [
    "# This program creates a list of squares of the first 10 integers using list comprehension\n",
    "\n",
    "# Using list comprehension to generate the list of squares\n",
    "squares = [x**2 for x in range(1, 11)]\n",
    "\n",
    "# Print the list of squares\n",
    "print(\"List of squares of the first 10 integers:\", squares)\n"
   ]
  },
  {
   "cell_type": "code",
   "execution_count": 8,
   "metadata": {},
   "outputs": [
    {
     "name": "stdout",
     "output_type": "stream",
     "text": [
      "The sentence is a palindrome.\n"
     ]
    }
   ],
   "source": [
    "# This program checks if a given sentence is a palindrome\n",
    "\n",
    "def is_palindrome(sentence):\n",
    "    # Remove spaces and punctuation from the sentence and convert it to lowercase\n",
    "    clean_sentence = ''.join(char.lower() for char in sentence if char.isalnum())\n",
    "    # Reverse the cleaned sentence\n",
    "    reversed_sentence = clean_sentence[::-1]\n",
    "    # Check if the cleaned sentence is equal to its reverse\n",
    "    return clean_sentence == reversed_sentence\n",
    "\n",
    "# Ask the user to enter a sentence\n",
    "user_sentence = input(\"Enter a sentence: \")\n",
    "\n",
    "# Check if the sentence is a palindrome and print the result\n",
    "if is_palindrome(user_sentence):\n",
    "    print(\"The sentence is a palindrome.\")\n",
    "else:\n",
    "    print(\"The sentence is not a palindrome.\")\n"
   ]
  },
  {
   "cell_type": "code",
   "execution_count": 9,
   "metadata": {},
   "outputs": [
    {
     "name": "stdout",
     "output_type": "stream",
     "text": [
      "The two strings are anagrams.\n"
     ]
    }
   ],
   "source": [
    "# This program checks if two strings are anagrams\n",
    "\n",
    "def are_anagrams(string1, string2):\n",
    "    # Remove spaces and convert both strings to lowercase\n",
    "    string1 = string1.replace(\" \", \"\").lower()\n",
    "    string2 = string2.replace(\" \", \"\").lower()\n",
    "    \n",
    "    # Sort the characters in both strings\n",
    "    sorted_string1 = sorted(string1)\n",
    "    sorted_string2 = sorted(string2)\n",
    "    \n",
    "    # Check if the sorted strings are equal\n",
    "    return sorted_string1 == sorted_string2\n",
    "\n",
    "# Ask the user to enter two strings\n",
    "string1 = input(\"Enter the first string: \")\n",
    "string2 = input(\"Enter the second string: \")\n",
    "\n",
    "# Check if the strings are anagrams and print the result\n",
    "if are_anagrams(string1, string2):\n",
    "    print(\"The two strings are anagrams.\")\n",
    "else:\n",
    "    print(\"The two strings are not anagrams.\")\n"
   ]
  },
  {
   "cell_type": "code",
   "execution_count": 10,
   "metadata": {},
   "outputs": [
    {
     "name": "stdout",
     "output_type": "stream",
     "text": [
      "Reversed sentence: dog lazy the over jumps fox brown quick The\n"
     ]
    }
   ],
   "source": [
    "# This program reverses the order of words in a given sentence\n",
    "\n",
    "def reverse_sentence(sentence):\n",
    "    # Split the sentence into words\n",
    "    words = sentence.split()\n",
    "    # Reverse the order of words\n",
    "    reversed_words = words[::-1]\n",
    "    # Join the reversed words to form the reversed sentence\n",
    "    reversed_sentence = ' '.join(reversed_words)\n",
    "    return reversed_sentence\n",
    "\n",
    "# Ask the user to enter a sentence\n",
    "user_sentence = input(\"Enter a sentence: \")\n",
    "\n",
    "# Call the reverse_sentence function and print the result\n",
    "reversed_sentence = reverse_sentence(user_sentence)\n",
    "print(\"Reversed sentence:\", reversed_sentence)\n"
   ]
  },
  {
   "cell_type": "code",
   "execution_count": 11,
   "metadata": {},
   "outputs": [
    {
     "name": "stdout",
     "output_type": "stream",
     "text": [
      "Choose the conversion type:\n",
      "1. Celsius to Fahrenheit\n",
      "2. Celsius to Kelvin\n",
      "3. Fahrenheit to Celsius\n",
      "4. Fahrenheit to Kelvin\n",
      "5. Kelvin to Celsius\n",
      "6. Kelvin to Fahrenheit\n",
      "Invalid choice. Please choose a number between 1 and 6.\n"
     ]
    }
   ],
   "source": [
    "# This program converts temperatures between Celsius, Fahrenheit, and Kelvin\n",
    "\n",
    "def celsius_to_fahrenheit(celsius):\n",
    "    return (celsius * 9/5) + 32\n",
    "\n",
    "def celsius_to_kelvin(celsius):\n",
    "    return celsius + 273.15\n",
    "\n",
    "def fahrenheit_to_celsius(fahrenheit):\n",
    "    return (fahrenheit - 32) * 5/9\n",
    "\n",
    "def fahrenheit_to_kelvin(fahrenheit):\n",
    "    return (fahrenheit - 32) * 5/9 + 273.15\n",
    "\n",
    "def kelvin_to_celsius(kelvin):\n",
    "    return kelvin - 273.15\n",
    "\n",
    "def kelvin_to_fahrenheit(kelvin):\n",
    "    return (kelvin - 273.15) * 9/5 + 32\n",
    "\n",
    "# Ask the user to choose the conversion type\n",
    "print(\"Choose the conversion type:\")\n",
    "print(\"1. Celsius to Fahrenheit\")\n",
    "print(\"2. Celsius to Kelvin\")\n",
    "print(\"3. Fahrenheit to Celsius\")\n",
    "print(\"4. Fahrenheit to Kelvin\")\n",
    "print(\"5. Kelvin to Celsius\")\n",
    "print(\"6. Kelvin to Fahrenheit\")\n",
    "choice = int(input(\"Enter your choice (1-6): \"))\n",
    "\n",
    "# Perform the conversion based on user's choice\n",
    "if choice == 1:\n",
    "    celsius = float(input(\"Enter the temperature in Celsius: \"))\n",
    "    result = celsius_to_fahrenheit(celsius)\n",
    "    print(\"Temperature in Fahrenheit:\", result)\n",
    "elif choice == 2:\n",
    "    celsius = float(input(\"Enter the temperature in Celsius: \"))\n",
    "    result = celsius_to_kelvin(celsius)\n",
    "    print(\"Temperature in Kelvin:\", result)\n",
    "elif choice == 3:\n",
    "    fahrenheit = float(input(\"Enter the temperature in Fahrenheit: \"))\n",
    "    result = fahrenheit_to_celsius(fahrenheit)\n",
    "    print(\"Temperature in Celsius:\", result)\n",
    "elif choice == 4:\n",
    "    fahrenheit = float(input(\"Enter the temperature in Fahrenheit: \"))\n",
    "    result = fahrenheit_to_kelvin(fahrenheit)\n",
    "    print(\"Temperature in Kelvin:\", result)\n",
    "elif choice == 5:\n",
    "    kelvin = float(input(\"Enter the temperature in Kelvin: \"))\n",
    "    result = kelvin_to_celsius(kelvin)\n",
    "    print(\"Temperature in Celsius:\", result)\n",
    "elif choice == 6:\n",
    "    kelvin = float(input(\"Enter the temperature in Kelvin: \"))\n",
    "    result = kelvin_to_fahrenheit(kelvin)\n",
    "    print(\"Temperature in Fahrenheit:\", result)\n",
    "else:\n",
    "    print(\"Invalid choice. Please choose a number between 1 and 6.\")\n"
   ]
  }
 ],
 "metadata": {
  "kernelspec": {
   "display_name": "Python 3",
   "language": "python",
   "name": "python3"
  },
  "language_info": {
   "codemirror_mode": {
    "name": "ipython",
    "version": 3
   },
   "file_extension": ".py",
   "mimetype": "text/x-python",
   "name": "python",
   "nbconvert_exporter": "python",
   "pygments_lexer": "ipython3",
   "version": "3.12.3"
  }
 },
 "nbformat": 4,
 "nbformat_minor": 2
}
