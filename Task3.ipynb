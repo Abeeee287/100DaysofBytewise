{
 "cells": [
  {
   "cell_type": "code",
   "execution_count": 7,
   "metadata": {},
   "outputs": [
    {
     "name": "stdout",
     "output_type": "stream",
     "text": [
      "The factorial of the given number is 2\n"
     ]
    }
   ],
   "source": [
    "#The program to calculate the factorial of a number using recursive function\n",
    "def factorial(n):\n",
    "    if n == 0:\n",
    "        return 1\n",
    "    else:\n",
    "        return n * factorial(n - 1)\n",
    "\n",
    "N = int(input(\"Enter the number to find the factorial: \"))\n",
    "result = factorial(N)\n",
    "print(\"The factorial of the given number is\", result)\n"
   ]
  },
  {
   "cell_type": "code",
   "execution_count": 11,
   "metadata": {},
   "outputs": [],
   "source": [
    "class Node:\n",
    "    def __init__(self,data):\n",
    "        self.data=int(input(\"Enter the No\"))\n",
    "        self.next= None\n",
    "        \n",
    "        class LinkedList:\n",
    "            def __init__(self):\n",
    "                self.head = None\n",
    "                \n",
    "                \n",
    "        "
   ]
  },
  {
   "cell_type": "code",
   "execution_count": 29,
   "metadata": {},
   "outputs": [
    {
     "name": "stdout",
     "output_type": "stream",
     "text": [
      "[4 5 6]\n",
      "[4 5 6]\n",
      "The merged array is: [4 5 6 4 5 6]\n"
     ]
    }
   ],
   "source": [
    "#Merge 2 arrays in a single array\n",
    "import numpy as np\n",
    "My_array=np.array([3,2,1])\n",
    "My_array2=np.array([4,5,6])\n",
    "My_array=np.sort(My_array)\n",
    "My_array=np.sort(My_array2)\n",
    "print(My_array)\n",
    "print(My_array2)\n",
    "CA=np.concatenate((My_array,My_array2),axis=None)\n",
    "print(\"The merged array is:\",CA)"
   ]
  },
  {
   "cell_type": "code",
   "execution_count": 7,
   "metadata": {},
   "outputs": [
    {
     "name": "stdout",
     "output_type": "stream",
     "text": [
      "The substrings are: ['a' 'ab' 'abd' 'abdu' 'abdul' 'abdull' 'abdulla' 'abdullah' 'b' 'bd'\n",
      " 'bdu' 'bdul' 'bdull' 'bdulla' 'bdullah' 'd' 'du' 'dul' 'dull' 'dulla'\n",
      " 'dullah' 'u' 'ul' 'ull' 'ulla' 'ullah' 'l' 'll' 'lla' 'llah' 'l' 'la'\n",
      " 'lah' 'a' 'ah' 'h']\n",
      "Substring: a, Reversed: a\n",
      "Substring: ab, Reversed: ba\n",
      "Substring: abd, Reversed: dba\n",
      "Substring: abdu, Reversed: udba\n",
      "Substring: abdul, Reversed: ludba\n",
      "Substring: abdull, Reversed: lludba\n",
      "Substring: abdulla, Reversed: alludba\n",
      "Substring: abdullah, Reversed: halludba\n",
      "Substring: b, Reversed: b\n",
      "Substring: bd, Reversed: db\n",
      "Substring: bdu, Reversed: udb\n",
      "Substring: bdul, Reversed: ludb\n",
      "Substring: bdull, Reversed: lludb\n",
      "Substring: bdulla, Reversed: alludb\n",
      "Substring: bdullah, Reversed: halludb\n",
      "Substring: d, Reversed: d\n",
      "Substring: du, Reversed: ud\n",
      "Substring: dul, Reversed: lud\n",
      "Substring: dull, Reversed: llud\n",
      "Substring: dulla, Reversed: allud\n",
      "Substring: dullah, Reversed: hallud\n",
      "Substring: u, Reversed: u\n",
      "Substring: ul, Reversed: lu\n",
      "Substring: ull, Reversed: llu\n",
      "Substring: ulla, Reversed: allu\n",
      "Substring: ullah, Reversed: hallu\n",
      "Substring: l, Reversed: l\n",
      "Substring: ll, Reversed: ll\n",
      "Substring: lla, Reversed: all\n",
      "Substring: llah, Reversed: hall\n",
      "Substring: l, Reversed: l\n",
      "Substring: la, Reversed: al\n",
      "Substring: lah, Reversed: hal\n",
      "Substring: a, Reversed: a\n",
      "Substring: ah, Reversed: ha\n",
      "Substring: h, Reversed: h\n",
      "The Longest Palindromic Substring is: ll\n"
     ]
    }
   ],
   "source": [
    "import numpy as np\n",
    "\n",
    "word = input(\"Enter a word: \")\n",
    "\n",
    "# Generate all substrings\n",
    "res = [word[i: j] for i in range(len(word)) for j in range(i + 1, len(word) + 1)]\n",
    "res = np.array(res)\n",
    "\n",
    "print(\"The substrings are:\", res)\n",
    "\n",
    "# Initialize variables to store the longest palindromic substring\n",
    "longest_palindrome = \"\"\n",
    "\n",
    "for substring in res:\n",
    "    reversed_word = substring[::-1]\n",
    "    if substring == reversed_word and len(substring) > len(longest_palindrome):\n",
    "        longest_palindrome = reversed_word\n",
    "\n",
    "    print(f\"Substring: {substring}, Reversed: {reversed_word}\")\n",
    "\n",
    "print(\"The Longest Palindromic Substring is:\", longest_palindrome)\n"
   ]
  },
  {
   "cell_type": "code",
   "execution_count": 9,
   "metadata": {},
   "outputs": [
    {
     "name": "stdout",
     "output_type": "stream",
     "text": [
      "The Merged Intervals are: [1, 9] \n"
     ]
    }
   ],
   "source": [
    "#Task 6 Merging Intervals\n",
    "def mergeIntervals(intervals):\n",
    "    intervals.sort()\n",
    "    stack = []\n",
    "    stack.append(intervals[0])\n",
    "    for i in intervals[1:]:\n",
    "        if stack[-1][0] <= i[0] <= stack[-1][-1]:\n",
    "            stack[-1][-1] = max(stack[-1][-1], i[-1])\n",
    "        else:\n",
    "            stack.append(i)\n",
    "    print(\"The Merged Intervals are:\", end=\" \")\n",
    "    for i in range(len(stack)):\n",
    "        print(stack[i], end=\" \")\n",
    "    print()\n",
    "\n",
    "arr = [[6, 8], [1, 9], [2, 4], [4, 7]]\n",
    "mergeIntervals(arr)\n"
   ]
  },
  {
   "cell_type": "code",
   "execution_count": 13,
   "metadata": {},
   "outputs": [
    {
     "name": "stdout",
     "output_type": "stream",
     "text": [
      "The Maximum Subarray is: [4, -1, 2, 1]\n",
      "Sum: 6\n"
     ]
    }
   ],
   "source": [
    "#Task 7 Sum of Maximum Subarray\n",
    "def findMaxSubarray(arr):\n",
    "    max_sum = arr[0]\n",
    "    current_sum = arr[0]\n",
    "    start = end = s = 0\n",
    "\n",
    "    for i in range(1, len(arr)):\n",
    "        if arr[i] > current_sum + arr[i]:\n",
    "            current_sum = arr[i]\n",
    "            s = i\n",
    "        else:\n",
    "            current_sum += arr[i]\n",
    "\n",
    "        if current_sum > max_sum:\n",
    "            max_sum = current_sum\n",
    "            start = s\n",
    "            end = i\n",
    "\n",
    "    max_subarray = arr[start:end + 1]\n",
    "    print(\"The Maximum Subarray is:\", max_subarray)\n",
    "    print(\"Sum:\", max_sum)\n",
    "\n",
    "arr = [-2, 1, -3, 4, -1, 2, 1, -5, 4]\n",
    "findMaxSubarray(arr)\n"
   ]
  },
  {
   "cell_type": "code",
   "execution_count": 14,
   "metadata": {},
   "outputs": [
    {
     "name": "stdout",
     "output_type": "stream",
     "text": [
      "3\n"
     ]
    }
   ],
   "source": [
    "#Task 9 Minumimum edit distance\n",
    "def minDistance(str1, str2):\n",
    "    m = len(str1)\n",
    "    n = len(str2)\n",
    "    \n",
    "    dp = [[0 for _ in range(n + 1)] for _ in range(m + 1)]\n",
    "    \n",
    "    for i in range(m + 1):\n",
    "        for j in range(n + 1):\n",
    "            if i == 0:\n",
    "                dp[i][j] = j\n",
    "            elif j == 0:\n",
    "                dp[i][j] = i\n",
    "            elif str1[i-1] == str2[j-1]:\n",
    "                dp[i][j] = dp[i-1][j-1]\n",
    "            else:\n",
    "                dp[i][j] = 1 + min(dp[i][j-1], dp[i-1][j], dp[i-1][j-1])\n",
    "                \n",
    "    return dp[m][n]\n",
    "\n",
    "str1 = \"kitten\"\n",
    "str2 = \"sitting\"\n",
    "print(minDistance(str1, str2))\n"
   ]
  },
  {
   "cell_type": "code",
   "execution_count": null,
   "metadata": {},
   "outputs": [],
   "source": [
    "#task 10 Boggle Game\n",
    "class BoggleSolver:\n",
    "    def __init__(self, board, dictionary):\n",
    "        self.board = board\n",
    "        self.rows = len(board)\n",
    "        self.cols = len(board[0])\n",
    "        self.dictionary = set(dictionary)\n",
    "        self.found_words = set()\n",
    "\n",
    "    def solve_boggle(self):\n",
    "        for i in range(self.rows):\n",
    "            for j in range(self.cols):\n",
    "                visited = [[False] * self.cols for _ in range(self.rows)]\n",
    "                self.dfs(i, j, \"\", visited)\n",
    "\n",
    "    def dfs(self, i, j, current_word, visited):\n",
    "        if visited[i][j]:\n",
    "            return\n",
    "\n",
    "        current_word += self.board[i][j]\n",
    "        visited[i][j] = True\n",
    "\n",
    "        if current_word in self.dictionary:\n",
    "            self.found_words.add(current_word)\n",
    "\n",
    "        # Define all possible movements: 8 directions (horizontal, vertical, diagonal)\n",
    "        directions = [(-1, 0), (1, 0), (0, -1), (0, 1),\n",
    "                      (-1, -1), (-1, 1), (1, -1), (1, 1)]\n",
    "\n",
    "        for di, dj in directions:\n",
    "            ni, nj = i + di, j + dj\n",
    "            if 0 <= ni < self.rows and 0 <= nj < self.cols and not visited[ni][nj]:\n",
    "                self.dfs(ni, nj, current_word, visited)\n",
    "\n",
    "        visited[i][j] = False\n",
    "\n",
    "    def print_found_words(self):\n",
    "        print(\"Words found in Boggle board:\")\n",
    "        for word in sorted(self.found_words):\n",
    "            print(word)\n",
    "\n",
    "\n",
    "# Example usage:\n",
    "board = [\n",
    "    ['o', 'a', 't'],\n",
    "    ['e', 'a', 'r'],\n",
    "    ['n', 'r', 't']\n",
    "]\n",
    "words_to_find = [\"oat\", \"oar\", \"ear\", \"eat\", \"rent\", \"tear\"]\n",
    "\n",
    "solver = BoggleSolver(board, words_to_find)\n",
    "solver.solve_boggle()\n",
    "solver.print_found_words()\n"
   ]
  }
 ],
 "metadata": {
  "kernelspec": {
   "display_name": "Python 3",
   "language": "python",
   "name": "python3"
  },
  "language_info": {
   "codemirror_mode": {
    "name": "ipython",
    "version": 3
   },
   "file_extension": ".py",
   "mimetype": "text/x-python",
   "name": "python",
   "nbconvert_exporter": "python",
   "pygments_lexer": "ipython3",
   "version": "3.12.3"
  }
 },
 "nbformat": 4,
 "nbformat_minor": 2
}
