{
 "cells": [
  {
   "cell_type": "code",
   "execution_count": 3,
   "metadata": {},
   "outputs": [
    {
     "ename": "ValueError",
     "evalue": "invalid literal for int() with base 10: ''",
     "output_type": "error",
     "traceback": [
      "\u001b[1;31m---------------------------------------------------------------------------\u001b[0m",
      "\u001b[1;31mValueError\u001b[0m                                Traceback (most recent call last)",
      "Cell \u001b[1;32mIn[3], line 10\u001b[0m\n\u001b[0;32m      7\u001b[0m number2 \u001b[38;5;241m=\u001b[39m \u001b[38;5;28minput\u001b[39m(\u001b[38;5;124m\"\u001b[39m\u001b[38;5;124mEnter the second number: \u001b[39m\u001b[38;5;124m\"\u001b[39m)\n\u001b[0;32m      9\u001b[0m \u001b[38;5;66;03m# Convert the input strings to integers\u001b[39;00m\n\u001b[1;32m---> 10\u001b[0m number1 \u001b[38;5;241m=\u001b[39m \u001b[38;5;28;43mint\u001b[39;49m\u001b[43m(\u001b[49m\u001b[43mnumber1\u001b[49m\u001b[43m)\u001b[49m\n\u001b[0;32m     11\u001b[0m number2 \u001b[38;5;241m=\u001b[39m \u001b[38;5;28mint\u001b[39m(number2)\n\u001b[0;32m     13\u001b[0m \u001b[38;5;66;03m# Calculate the sum of the two numbers\u001b[39;00m\n",
      "\u001b[1;31mValueError\u001b[0m: invalid literal for int() with base 10: ''"
     ]
    }
   ],
   "source": [
    "# This program adds two numbers provided by the user\n",
    "\n",
    "# Take input from the user for the first number\n",
    "number1 = input(\"Enter the first number: \")\n",
    "\n",
    "# Take input from the user for the second number\n",
    "number2 = input(\"Enter the second number: \")\n",
    "\n",
    "# Convert the input strings to integers\n",
    "number1 = int(number1)\n",
    "number2 = int(number2)\n",
    "\n",
    "# Calculate the sum of the two numbers\n",
    "sum_of_numbers = number1 + number2\n",
    "\n",
    "# Print the sum\n",
    "print(\"The sum of the two numbers is:\", sum_of_numbers)\n"
   ]
  },
  {
   "cell_type": "code",
   "execution_count": null,
   "metadata": {},
   "outputs": [],
   "source": [
    "# This program calculates the area of a circle given its radius\n",
    "\n",
    "# Import the math module to use the value of pi\n",
    "import math\n",
    "\n",
    "# Ask the user to enter the radius of the circle\n",
    "radius = input(\"Enter the radius of the circle: \")\n",
    "\n",
    "# Convert the input to a float number\n",
    "radius = float(radius)\n",
    "\n",
    "# Calculate the area of the circle\n",
    "# Formula: area = pi * radius * radius\n",
    "area = math.pi * radius * radius\n",
    "\n",
    "# Print the area of the circle\n",
    "print(\"The area of the circle is:\", area)"
   ]
  },
  {
   "cell_type": "code",
   "execution_count": 4,
   "metadata": {},
   "outputs": [
    {
     "name": "stdout",
     "output_type": "stream",
     "text": [
      "The number is odd.\n"
     ]
    }
   ],
   "source": [
    "# This program checks if a number is even or odd\n",
    "\n",
    "# Ask the user to enter a number\n",
    "number = input(\"Enter a number: \")\n",
    "\n",
    "# Convert the input to an integer\n",
    "number = int(number)\n",
    "\n",
    "# Check if the number is even or odd\n",
    "if number % 2 == 0:\n",
    "    # If the remainder when number is divided by 2 is 0, it's even\n",
    "    print(\"The number is even.\")\n",
    "else:\n",
    "    # Otherwise, it's odd\n",
    "    print(\"The number is odd.\")"
   ]
  },
  {
   "cell_type": "code",
   "execution_count": 5,
   "metadata": {},
   "outputs": [
    {
     "name": "stdout",
     "output_type": "stream",
     "text": [
      "Choose an operation:\n",
      "1. Addition\n",
      "2. Subtraction\n",
      "3. Multiplication\n",
      "4. Division\n",
      "The result of addition is: 5.0\n"
     ]
    }
   ],
   "source": [
    "# This program performs basic arithmetic operations\n",
    "\n",
    "# Ask the user to enter the first number\n",
    "num1 = input(\"Enter the first number: \")\n",
    "\n",
    "# Ask the user to enter the second number\n",
    "num2 = input(\"Enter the second number: \")\n",
    "\n",
    "# Convert the inputs to floats\n",
    "num1 = float(num1)\n",
    "num2 = float(num2)\n",
    "\n",
    "# Ask the user to choose an operation\n",
    "print(\"Choose an operation:\")\n",
    "print(\"1. Addition\")\n",
    "print(\"2. Subtraction\")\n",
    "print(\"3. Multiplication\")\n",
    "print(\"4. Division\")\n",
    "operation = input(\"Enter the number corresponding to the operation: \")\n",
    "\n",
    "# Perform the chosen operation\n",
    "if operation == '1':\n",
    "    result = num1 + num2\n",
    "    print(\"The result of addition is:\", result)\n",
    "elif operation == '2':\n",
    "    result = num1 - num2\n",
    "    print(\"The result of subtraction is:\", result)\n",
    "elif operation == '3':\n",
    "    result = num1 * num2\n",
    "    print(\"The result of multiplication is:\", result)\n",
    "elif operation == '4':\n",
    "    if num2 != 0:\n",
    "        result = num1 / num2\n",
    "        print(\"The result of division is:\", result)\n",
    "    else:\n",
    "        print(\"Error: Division by zero is not allowed.\")\n",
    "else:\n",
    "    print(\"Invalid operation. Please choose a valid operation.\")\n"
   ]
  },
  {
   "cell_type": "code",
   "execution_count": 6,
   "metadata": {},
   "outputs": [
    {
     "name": "stdout",
     "output_type": "stream",
     "text": [
      "The largest number is: 5.0\n"
     ]
    }
   ],
   "source": [
    "# This program finds the largest of three numbers\n",
    "\n",
    "# Ask the user to enter the first number\n",
    "num1 = input(\"Enter the first number: \")\n",
    "\n",
    "# Ask the user to enter the second number\n",
    "num2 = input(\"Enter the second number: \")\n",
    "\n",
    "# Ask the user to enter the third number\n",
    "num3 = input(\"Enter the third number: \")\n",
    "\n",
    "# Convert the inputs to floats\n",
    "num1 = float(num1)\n",
    "num2 = float(num2)\n",
    "num3 = float(num3)\n",
    "\n",
    "# Find the largest number\n",
    "if num1 >= num2 and num1 >= num3:\n",
    "    largest = num1\n",
    "elif num2 >= num1 and num2 >= num3:\n",
    "    largest = num2\n",
    "else:\n",
    "    largest = num3\n",
    "\n",
    "# Print the largest number\n",
    "print(\"The largest number is:\", largest)\n",
    "\n"
   ]
  },
  {
   "cell_type": "code",
   "execution_count": 7,
   "metadata": {},
   "outputs": [
    {
     "name": "stdout",
     "output_type": "stream",
     "text": [
      "The reversed string is: yrt\n"
     ]
    }
   ],
   "source": [
    "# This program takes a string from the user and prints it in reverse\n",
    "\n",
    "# Ask the user to enter a string\n",
    "user_string = input(\"Enter a string: \")\n",
    "\n",
    "# Reverse the string\n",
    "reversed_string = user_string[::-1]\n",
    "\n",
    "# Print the reversed string\n",
    "print(\"The reversed string is:\", reversed_string)\n"
   ]
  },
  {
   "cell_type": "code",
   "execution_count": 8,
   "metadata": {},
   "outputs": [
    {
     "name": "stdout",
     "output_type": "stream",
     "text": [
      "The number of vowels in the string is: 3\n"
     ]
    }
   ],
   "source": [
    "# This program counts the number of vowels in a given string\n",
    "\n",
    "# Function to count vowels in a string\n",
    "def count_vowels(input_string):\n",
    "    vowels = \"aeiouAEIOU\"\n",
    "    count = 0\n",
    "    for char in input_string:\n",
    "        if char in vowels:\n",
    "            count += 1\n",
    "    return count\n",
    "\n",
    "# Ask the user to enter a string\n",
    "user_string = input(\"Enter a string: \")\n",
    "\n",
    "# Call the count_vowels function and print the result\n",
    "num_vowels = count_vowels(user_string)\n",
    "print(\"The number of vowels in the string is:\", num_vowels)\n"
   ]
  },
  {
   "cell_type": "code",
   "execution_count": 9,
   "metadata": {},
   "outputs": [
    {
     "name": "stdout",
     "output_type": "stream",
     "text": [
      "Fibonacci sequence up to 5 terms:\n",
      "0 1 1 2 3 "
     ]
    }
   ],
   "source": [
    "# This program prints the Fibonacci sequence up to n terms\n",
    "\n",
    "def fibonacci(n):\n",
    "    # Initialize the first two terms of the sequence\n",
    "    fib_sequence = [0, 1]\n",
    "    \n",
    "    # Check if n is less than or equal to 0\n",
    "    if n <= 0:\n",
    "        print(\"Please enter a positive integer.\")\n",
    "    # Check if n is equal to 1\n",
    "    elif n == 1:\n",
    "        print(\"Fibonacci sequence up to\", n, \"term(s):\")\n",
    "        print(fib_sequence[0])\n",
    "    # Generate Fibonacci sequence up to n terms\n",
    "    else:\n",
    "        for i in range(2, n):\n",
    "            next_term = fib_sequence[-1] + fib_sequence[-2]\n",
    "            fib_sequence.append(next_term)\n",
    "        \n",
    "        # Print the Fibonacci sequence\n",
    "        print(\"Fibonacci sequence up to\", n, \"terms:\")\n",
    "        for num in fib_sequence:\n",
    "            print(num, end=\" \")\n",
    "\n",
    "# Ask the user to enter the number of terms\n",
    "n = int(input(\"Enter the number of terms: \"))\n",
    "\n",
    "# Call the fibonacci function\n",
    "fibonacci(n)\n"
   ]
  },
  {
   "cell_type": "code",
   "execution_count": 10,
   "metadata": {},
   "outputs": [
    {
     "name": "stdout",
     "output_type": "stream",
     "text": [
      "The string is not a palindrome.\n"
     ]
    }
   ],
   "source": [
    "# This program checks if a given string is a palindrome\n",
    "\n",
    "def is_palindrome(string):\n",
    "    # Convert the string to lowercase\n",
    "    string = string.lower()\n",
    "    # Remove spaces from the string\n",
    "    string = string.replace(\" \", \"\")\n",
    "    # Reverse the string\n",
    "    reversed_string = string[::-1]\n",
    "    # Check if the original string is equal to its reverse\n",
    "    if string == reversed_string:\n",
    "        return True\n",
    "    else:\n",
    "        return False\n",
    "\n",
    "# Ask the user to enter a string\n",
    "user_string = input(\"Enter a string: \")\n",
    "\n",
    "# Call the is_palindrome function and print the result\n",
    "if is_palindrome(user_string):\n",
    "    print(\"The string is a palindrome.\")\n",
    "else:\n",
    "    print(\"The string is not a palindrome.\")\n"
   ]
  }
 ],
 "metadata": {
  "kernelspec": {
   "display_name": "Python 3",
   "language": "python",
   "name": "python3"
  },
  "language_info": {
   "codemirror_mode": {
    "name": "ipython",
    "version": 3
   },
   "file_extension": ".py",
   "mimetype": "text/x-python",
   "name": "python",
   "nbconvert_exporter": "python",
   "pygments_lexer": "ipython3",
   "version": "3.12.3"
  }
 },
 "nbformat": 4,
 "nbformat_minor": 2
}
